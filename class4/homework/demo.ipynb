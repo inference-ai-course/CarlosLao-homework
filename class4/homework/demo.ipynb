{
 "cells": [
  {
   "cell_type": "code",
   "execution_count": 1,
   "id": "4de5314e",
   "metadata": {},
   "outputs": [
    {
     "name": "stdout",
     "output_type": "stream",
     "text": [
      "FAISS index loaded with 1177 chunks.\n"
     ]
    }
   ],
   "source": [
    "# Cell 1: Setup\n",
    "import os\n",
    "import faiss\n",
    "import pickle\n",
    "import numpy as np\n",
    "from sentence_transformers import SentenceTransformer\n",
    "from IPython.display import display, Markdown\n",
    "import ipywidgets as widgets\n",
    "import json\n",
    "from datetime import datetime\n",
    "\n",
    "# === Configuration ===\n",
    "BASE_DIR = os.getcwd()\n",
    "INDEX_PATH = os.path.join(BASE_DIR, \"faiss_index.bin\")\n",
    "METADATA_PATH = os.path.join(BASE_DIR, \"chunk_metadata.pkl\")\n",
    "CHUNK_DIR = os.path.join(BASE_DIR, \"arxiv_chunks\")\n",
    "LOG_PATH = os.path.join(BASE_DIR, \"retrieval_log.json\")\n",
    "\n",
    "# === Load Model, Index, Metadata ===\n",
    "model = SentenceTransformer(\"all-MiniLM-L6-v2\")\n",
    "index = faiss.read_index(INDEX_PATH)\n",
    "\n",
    "with open(METADATA_PATH, \"rb\") as f:\n",
    "    chunk_ids = pickle.load(f)\n",
    "\n",
    "print(f\"FAISS index loaded with {len(chunk_ids)} chunks.\")"
   ]
  },
  {
   "cell_type": "code",
   "execution_count": 2,
   "id": "61de40f2",
   "metadata": {},
   "outputs": [],
   "source": [
    "# Cell 2: Search and Logging Functions\n",
    "\n",
    "def search_query(query, top_k=3):\n",
    "    query_embedding = model.encode([query]).astype(\"float32\")\n",
    "    distances, indices = index.search(query_embedding, top_k)\n",
    "\n",
    "    results = []\n",
    "    for i in indices[0]:\n",
    "        chunk_file = os.path.join(CHUNK_DIR, chunk_ids[i])\n",
    "        with open(chunk_file, \"r\", encoding=\"utf-8\") as f:\n",
    "            chunk_text = f.read().strip()\n",
    "        results.append((chunk_ids[i], chunk_text))\n",
    "    return results\n",
    "\n",
    "def save_results_to_json(query, results):\n",
    "    entry = {\n",
    "        \"timestamp\": datetime.now().isoformat(),\n",
    "        \"query\": query,\n",
    "        \"results\": [\n",
    "            {\n",
    "                \"chunk_id\": chunk_id,\n",
    "                \"text\": text\n",
    "            } for chunk_id, text in results\n",
    "        ]\n",
    "    }\n",
    "\n",
    "    # Load existing log or create new\n",
    "    if os.path.exists(LOG_PATH):\n",
    "        with open(LOG_PATH, \"r\", encoding=\"utf-8\") as f:\n",
    "            log = json.load(f)\n",
    "    else:\n",
    "        log = []\n",
    "\n",
    "    log.append(entry)\n",
    "\n",
    "    with open(LOG_PATH, \"w\", encoding=\"utf-8\") as f:\n",
    "        json.dump(log, f, indent=2)"
   ]
  },
  {
   "cell_type": "code",
   "execution_count": 10,
   "id": "cd8393e1",
   "metadata": {},
   "outputs": [
    {
     "data": {
      "application/vnd.jupyter.widget-view+json": {
       "model_id": "be1b7464d62c4c0498013115d7dda98b",
       "version_major": 2,
       "version_minor": 0
      },
      "text/plain": [
       "VBox(children=(HBox(children=(Text(value='transformer models for machine translation', description='Query:', l…"
      ]
     },
     "metadata": {},
     "output_type": "display_data"
    }
   ],
   "source": [
    "# Cell 3: Interactive UI with Submit Button\n",
    "\n",
    "query_box = widgets.Text(\n",
    "    value='transformer models for machine translation',\n",
    "    placeholder='Type your query here',\n",
    "    description='Query:',\n",
    "    layout=widgets.Layout(width='70%'),\n",
    "    style={'description_width': 'initial'}\n",
    ")\n",
    "\n",
    "submit_button = widgets.Button(\n",
    "    description='Submit',\n",
    "    button_style='success',\n",
    "    layout=widgets.Layout(width='15%')\n",
    ")\n",
    "\n",
    "output_area = widgets.Output()\n",
    "\n",
    "def on_button_click(b):\n",
    "    output_area.clear_output()\n",
    "    query = query_box.value.strip()\n",
    "    if not query:\n",
    "        with output_area:\n",
    "            display(Markdown(\"**Please enter a query.**\"))\n",
    "        return\n",
    "    results = search_query(query, top_k=3)\n",
    "    save_results_to_json(query, results)\n",
    "    with output_area:\n",
    "        for i, (chunk_id, text) in enumerate(results, 1):\n",
    "            display(Markdown(f\"### Result {i}: `{chunk_id}`\"))\n",
    "            display(Markdown(f\"```\\n{text[:1000]}\\n```\"))\n",
    "\n",
    "submit_button.on_click(on_button_click)\n",
    "\n",
    "ui = widgets.VBox([\n",
    "    widgets.HBox([query_box, submit_button]),\n",
    "    output_area\n",
    "])\n",
    "\n",
    "display(ui)\n"
   ]
  }
 ],
 "metadata": {
  "kernelspec": {
   "display_name": "Python (vllm-env)",
   "language": "python",
   "name": "vllm-env"
  },
  "language_info": {
   "codemirror_mode": {
    "name": "ipython",
    "version": 3
   },
   "file_extension": ".py",
   "mimetype": "text/x-python",
   "name": "python",
   "nbconvert_exporter": "python",
   "pygments_lexer": "ipython3",
   "version": "3.12.3"
  }
 },
 "nbformat": 4,
 "nbformat_minor": 5
}
