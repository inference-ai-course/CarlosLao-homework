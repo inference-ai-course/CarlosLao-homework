{
 "cells": [
  {
   "cell_type": "markdown",
   "id": "363a134c",
   "metadata": {},
   "source": [
    "# =========================================================\n",
    "# Evaluation Script\n",
    "# =========================================================\n",
    "# Compares vector-only, keyword-only, and hybrid search performance\n",
    "# using Recall@3 across a set of test queries.\n",
    "\n",
    "# Author: Carlos Lao\n",
    "# Refactored for clarity, documentation, and structured logging style\n",
    "# =========================================================\n"
   ]
  },
  {
   "cell_type": "markdown",
   "id": "e144a754",
   "metadata": {},
   "source": [
    "# ---------------------------------------------------------\n",
    "# Step 1: Import modules\n",
    "# ---------------------------------------------------------"
   ]
  },
  {
   "cell_type": "code",
   "execution_count": 1,
   "id": "b91f3c45",
   "metadata": {},
   "outputs": [
    {
     "name": "stderr",
     "output_type": "stream",
     "text": [
      "2025-08-25 01:21:15,471 [INFO] Loading faiss with AVX2 support.\n",
      "2025-08-25 01:21:15,557 [INFO] Successfully loaded faiss with AVX2 support.\n",
      "2025-08-25 01:23:08,133 [INFO] Use pytorch device_name: cuda:0\n",
      "2025-08-25 01:23:08,134 [INFO] Load pretrained SentenceTransformer: all-MiniLM-L6-v2\n"
     ]
    },
    {
     "name": "stdout",
     "output_type": "stream",
     "text": [
      "/mnt/c/Projects/MLE Courses/CarlosLao-homework/vllm-env/bin/python\n"
     ]
    }
   ],
   "source": [
    "import pandas as pd\n",
    "from app.config import logger\n",
    "from app.retrieval import hybrid_search, keyword_search_fts5, semantic_search\n",
    "\n",
    "import sys\n",
    "print(sys.executable)"
   ]
  },
  {
   "cell_type": "markdown",
   "id": "b7b9f598",
   "metadata": {},
   "source": [
    "# ---------------------------------------------------------\n",
    "# Step 2: Define evaluation queries and ground truth\n",
    "# ---------------------------------------------------------"
   ]
  },
  {
   "cell_type": "code",
   "execution_count": 2,
   "id": "5b72c8e0",
   "metadata": {},
   "outputs": [
    {
     "name": "stderr",
     "output_type": "stream",
     "text": [
      "2025-08-25 01:23:50,109 [INFO] Loaded evaluation queries.\n"
     ]
    }
   ],
   "source": [
    "# Each query maps to the expected relevant chunk ID(s)\n",
    "evaluation_queries = {\n",
    "    \"transformer architecture\": [\"doc123_chunk1\"],\n",
    "    \"language modeling\": [\"doc123_chunk2\"],\n",
    "    \"encoder-decoder\": [\"doc123_chunk3\"],\n",
    "    \"attention mechanism\": [\"doc123_chunk1\"],\n",
    "    \"sequence processing\": [\"doc123_chunk1\"],\n",
    "    \"translation tasks\": [\"doc123_chunk3\"],\n",
    "    \"summarization\": [\"doc123_chunk3\"],\n",
    "    \"self-attention\": [\"doc123_chunk1\"],\n",
    "    \"NLP applications\": [\"doc123_chunk2\"],\n",
    "    \"deep learning\": [\"doc123_chunk2\"]\n",
    "}\n",
    "\n",
    "logger.info(\"Loaded evaluation queries.\")"
   ]
  },
  {
   "cell_type": "markdown",
   "id": "d9f2437c",
   "metadata": {},
   "source": [
    "# ---------------------------------------------------------\n",
    "# Step 3: Define Recall@k function\n",
    "# ---------------------------------------------------------"
   ]
  },
  {
   "cell_type": "code",
   "execution_count": 3,
   "id": "292942a0",
   "metadata": {},
   "outputs": [],
   "source": [
    "def recall_at_k(results, relevant_ids, k=3):\n",
    "    \"\"\"\n",
    "    Computes Recall@k for a given result list and ground truth.\n",
    "\n",
    "    Parameters\n",
    "    ----------\n",
    "    results : list of tuple\n",
    "        Retrieved chunk IDs and scores.\n",
    "    relevant_ids : list of str\n",
    "        Known relevant chunk IDs.\n",
    "    k : int\n",
    "        Number of top results to evaluate.\n",
    "\n",
    "    Returns\n",
    "    -------\n",
    "    float\n",
    "        Recall score between 0 and 1.\n",
    "    \"\"\"\n",
    "    # Extract top-k chunk IDs from results\n",
    "    top_k = [r[0] for r in results[:k]]\n",
    "\n",
    "    # Count how many relevant IDs appear in top-k\n",
    "    return sum(1 for r in top_k if r in relevant_ids) / len(relevant_ids)"
   ]
  },
  {
   "cell_type": "markdown",
   "id": "bd8e85b6",
   "metadata": {},
   "source": [
    "# ---------------------------------------------------------\n",
    "# Step 4: Run evaluation loop\n",
    "# ---------------------------------------------------------"
   ]
  },
  {
   "cell_type": "code",
   "execution_count": 4,
   "id": "a40d28bf",
   "metadata": {},
   "outputs": [
    {
     "name": "stderr",
     "output_type": "stream",
     "text": [
      "2025-08-25 01:23:59,947 [INFO] Evaluating query: 'transformer architecture'\n",
      "2025-08-25 01:23:59,949 [INFO] Semantic search initiated for query: 'transformer architecture'\n"
     ]
    },
    {
     "data": {
      "application/vnd.jupyter.widget-view+json": {
       "model_id": "e15514c66d1d4592a6784a4b116b42ff",
       "version_major": 2,
       "version_minor": 0
      },
      "text/plain": [
       "Batches:   0%|          | 0/1 [00:00<?, ?it/s]"
      ]
     },
     "metadata": {},
     "output_type": "display_data"
    },
    {
     "name": "stderr",
     "output_type": "stream",
     "text": [
      "/mnt/c/Projects/MLE Courses/CarlosLao-homework/vllm-env/lib/python3.12/site-packages/torch/nn/modules/module.py:1762: FutureWarning: `encoder_attention_mask` is deprecated and will be removed in version 4.55.0 for `BertSdpaSelfAttention.forward`.\n",
      "  return forward_call(*args, **kwargs)\n",
      "2025-08-25 01:24:00,545 [INFO] Keyword search (FTS5) initiated for query: 'transformer architecture'\n",
      "2025-08-25 01:24:00,569 [INFO] Hybrid search initiated for query: 'transformer architecture'\n",
      "2025-08-25 01:24:00,571 [INFO] Semantic search initiated for query: 'transformer architecture'\n"
     ]
    },
    {
     "data": {
      "application/vnd.jupyter.widget-view+json": {
       "model_id": "f5c6d636ce3246c3aacffddf3423413f",
       "version_major": 2,
       "version_minor": 0
      },
      "text/plain": [
       "Batches:   0%|          | 0/1 [00:00<?, ?it/s]"
      ]
     },
     "metadata": {},
     "output_type": "display_data"
    },
    {
     "name": "stderr",
     "output_type": "stream",
     "text": [
      "2025-08-25 01:24:00,615 [INFO] Keyword search (FTS5) initiated for query: 'transformer architecture'\n",
      "2025-08-25 01:24:00,633 [INFO] Hybrid search completed with 3 results.\n",
      "2025-08-25 01:24:00,636 [INFO] Evaluating query: 'language modeling'\n",
      "2025-08-25 01:24:00,638 [INFO] Semantic search initiated for query: 'language modeling'\n"
     ]
    },
    {
     "data": {
      "application/vnd.jupyter.widget-view+json": {
       "model_id": "db721bc80a814befbc6df486b34c6c78",
       "version_major": 2,
       "version_minor": 0
      },
      "text/plain": [
       "Batches:   0%|          | 0/1 [00:00<?, ?it/s]"
      ]
     },
     "metadata": {},
     "output_type": "display_data"
    },
    {
     "name": "stderr",
     "output_type": "stream",
     "text": [
      "2025-08-25 01:24:00,669 [INFO] Keyword search (FTS5) initiated for query: 'language modeling'\n",
      "2025-08-25 01:24:00,686 [INFO] Hybrid search initiated for query: 'language modeling'\n",
      "2025-08-25 01:24:00,687 [INFO] Semantic search initiated for query: 'language modeling'\n"
     ]
    },
    {
     "data": {
      "application/vnd.jupyter.widget-view+json": {
       "model_id": "2b32d8ae9fe149438884cc7b56f95764",
       "version_major": 2,
       "version_minor": 0
      },
      "text/plain": [
       "Batches:   0%|          | 0/1 [00:00<?, ?it/s]"
      ]
     },
     "metadata": {},
     "output_type": "display_data"
    },
    {
     "name": "stderr",
     "output_type": "stream",
     "text": [
      "2025-08-25 01:24:00,717 [INFO] Keyword search (FTS5) initiated for query: 'language modeling'\n",
      "2025-08-25 01:24:00,738 [INFO] Hybrid search completed with 3 results.\n",
      "2025-08-25 01:24:00,738 [INFO] Evaluating query: 'encoder-decoder'\n",
      "2025-08-25 01:24:00,739 [INFO] Semantic search initiated for query: 'encoder-decoder'\n"
     ]
    },
    {
     "data": {
      "application/vnd.jupyter.widget-view+json": {
       "model_id": "03649a5014b34e43aec8d5e9b21a0441",
       "version_major": 2,
       "version_minor": 0
      },
      "text/plain": [
       "Batches:   0%|          | 0/1 [00:00<?, ?it/s]"
      ]
     },
     "metadata": {},
     "output_type": "display_data"
    },
    {
     "name": "stderr",
     "output_type": "stream",
     "text": [
      "2025-08-25 01:24:00,774 [INFO] Keyword search (FTS5) initiated for query: 'encoder-decoder'\n",
      "2025-08-25 01:24:00,796 [INFO] Hybrid search initiated for query: 'encoder-decoder'\n",
      "2025-08-25 01:24:00,797 [INFO] Semantic search initiated for query: 'encoder-decoder'\n"
     ]
    },
    {
     "data": {
      "application/vnd.jupyter.widget-view+json": {
       "model_id": "dd1265ceb19040d5b73d2015429e0715",
       "version_major": 2,
       "version_minor": 0
      },
      "text/plain": [
       "Batches:   0%|          | 0/1 [00:00<?, ?it/s]"
      ]
     },
     "metadata": {},
     "output_type": "display_data"
    },
    {
     "name": "stderr",
     "output_type": "stream",
     "text": [
      "2025-08-25 01:24:00,824 [INFO] Keyword search (FTS5) initiated for query: 'encoder-decoder'\n",
      "2025-08-25 01:24:00,843 [INFO] Hybrid search completed with 3 results.\n",
      "2025-08-25 01:24:00,844 [INFO] Evaluating query: 'attention mechanism'\n",
      "2025-08-25 01:24:00,845 [INFO] Semantic search initiated for query: 'attention mechanism'\n"
     ]
    },
    {
     "data": {
      "application/vnd.jupyter.widget-view+json": {
       "model_id": "261db5115af648f088c7b104252906bc",
       "version_major": 2,
       "version_minor": 0
      },
      "text/plain": [
       "Batches:   0%|          | 0/1 [00:00<?, ?it/s]"
      ]
     },
     "metadata": {},
     "output_type": "display_data"
    },
    {
     "name": "stderr",
     "output_type": "stream",
     "text": [
      "2025-08-25 01:24:00,876 [INFO] Keyword search (FTS5) initiated for query: 'attention mechanism'\n",
      "2025-08-25 01:24:00,890 [INFO] Hybrid search initiated for query: 'attention mechanism'\n",
      "2025-08-25 01:24:00,891 [INFO] Semantic search initiated for query: 'attention mechanism'\n"
     ]
    },
    {
     "data": {
      "application/vnd.jupyter.widget-view+json": {
       "model_id": "d7066085f2c247398bf91a496b3f11cd",
       "version_major": 2,
       "version_minor": 0
      },
      "text/plain": [
       "Batches:   0%|          | 0/1 [00:00<?, ?it/s]"
      ]
     },
     "metadata": {},
     "output_type": "display_data"
    },
    {
     "name": "stderr",
     "output_type": "stream",
     "text": [
      "2025-08-25 01:24:00,917 [INFO] Keyword search (FTS5) initiated for query: 'attention mechanism'\n",
      "2025-08-25 01:24:00,933 [INFO] Hybrid search completed with 3 results.\n",
      "2025-08-25 01:24:00,934 [INFO] Evaluating query: 'sequence processing'\n",
      "2025-08-25 01:24:00,934 [INFO] Semantic search initiated for query: 'sequence processing'\n"
     ]
    },
    {
     "data": {
      "application/vnd.jupyter.widget-view+json": {
       "model_id": "e6751360797745f8b55497581d409eed",
       "version_major": 2,
       "version_minor": 0
      },
      "text/plain": [
       "Batches:   0%|          | 0/1 [00:00<?, ?it/s]"
      ]
     },
     "metadata": {},
     "output_type": "display_data"
    },
    {
     "name": "stderr",
     "output_type": "stream",
     "text": [
      "2025-08-25 01:24:00,974 [INFO] Keyword search (FTS5) initiated for query: 'sequence processing'\n",
      "2025-08-25 01:24:00,995 [INFO] Hybrid search initiated for query: 'sequence processing'\n",
      "2025-08-25 01:24:00,996 [INFO] Semantic search initiated for query: 'sequence processing'\n"
     ]
    },
    {
     "data": {
      "application/vnd.jupyter.widget-view+json": {
       "model_id": "e8fbe49a3a38461bbbc42053b40a49c7",
       "version_major": 2,
       "version_minor": 0
      },
      "text/plain": [
       "Batches:   0%|          | 0/1 [00:00<?, ?it/s]"
      ]
     },
     "metadata": {},
     "output_type": "display_data"
    },
    {
     "name": "stderr",
     "output_type": "stream",
     "text": [
      "2025-08-25 01:24:01,022 [INFO] Keyword search (FTS5) initiated for query: 'sequence processing'\n",
      "2025-08-25 01:24:01,041 [INFO] Hybrid search completed with 3 results.\n",
      "2025-08-25 01:24:01,042 [INFO] Evaluating query: 'translation tasks'\n",
      "2025-08-25 01:24:01,043 [INFO] Semantic search initiated for query: 'translation tasks'\n"
     ]
    },
    {
     "data": {
      "application/vnd.jupyter.widget-view+json": {
       "model_id": "c4f85880b67b40b9bfce44e9fb278a27",
       "version_major": 2,
       "version_minor": 0
      },
      "text/plain": [
       "Batches:   0%|          | 0/1 [00:00<?, ?it/s]"
      ]
     },
     "metadata": {},
     "output_type": "display_data"
    },
    {
     "name": "stderr",
     "output_type": "stream",
     "text": [
      "2025-08-25 01:24:01,072 [INFO] Keyword search (FTS5) initiated for query: 'translation tasks'\n",
      "2025-08-25 01:24:01,088 [INFO] Hybrid search initiated for query: 'translation tasks'\n",
      "2025-08-25 01:24:01,089 [INFO] Semantic search initiated for query: 'translation tasks'\n"
     ]
    },
    {
     "data": {
      "application/vnd.jupyter.widget-view+json": {
       "model_id": "548229e9feb4482f8c2e799c111dd4bf",
       "version_major": 2,
       "version_minor": 0
      },
      "text/plain": [
       "Batches:   0%|          | 0/1 [00:00<?, ?it/s]"
      ]
     },
     "metadata": {},
     "output_type": "display_data"
    },
    {
     "name": "stderr",
     "output_type": "stream",
     "text": [
      "2025-08-25 01:24:01,117 [INFO] Keyword search (FTS5) initiated for query: 'translation tasks'\n",
      "2025-08-25 01:24:01,133 [INFO] Hybrid search completed with 3 results.\n",
      "2025-08-25 01:24:01,133 [INFO] Evaluating query: 'summarization'\n",
      "2025-08-25 01:24:01,134 [INFO] Semantic search initiated for query: 'summarization'\n"
     ]
    },
    {
     "data": {
      "application/vnd.jupyter.widget-view+json": {
       "model_id": "087fad5c261a44c5b0eb29aff069ffbc",
       "version_major": 2,
       "version_minor": 0
      },
      "text/plain": [
       "Batches:   0%|          | 0/1 [00:00<?, ?it/s]"
      ]
     },
     "metadata": {},
     "output_type": "display_data"
    },
    {
     "name": "stderr",
     "output_type": "stream",
     "text": [
      "2025-08-25 01:24:01,162 [INFO] Keyword search (FTS5) initiated for query: 'summarization'\n",
      "2025-08-25 01:24:01,179 [INFO] Hybrid search initiated for query: 'summarization'\n",
      "2025-08-25 01:24:01,179 [INFO] Semantic search initiated for query: 'summarization'\n"
     ]
    },
    {
     "data": {
      "application/vnd.jupyter.widget-view+json": {
       "model_id": "56a4149f78fb436c827276b043e2b4d5",
       "version_major": 2,
       "version_minor": 0
      },
      "text/plain": [
       "Batches:   0%|          | 0/1 [00:00<?, ?it/s]"
      ]
     },
     "metadata": {},
     "output_type": "display_data"
    },
    {
     "name": "stderr",
     "output_type": "stream",
     "text": [
      "2025-08-25 01:24:01,209 [INFO] Keyword search (FTS5) initiated for query: 'summarization'\n",
      "2025-08-25 01:24:01,237 [INFO] Hybrid search completed with 3 results.\n",
      "2025-08-25 01:24:01,238 [INFO] Evaluating query: 'self-attention'\n",
      "2025-08-25 01:24:01,240 [INFO] Semantic search initiated for query: 'self-attention'\n"
     ]
    },
    {
     "data": {
      "application/vnd.jupyter.widget-view+json": {
       "model_id": "c50f5e6f45de458594a7113faaa837e5",
       "version_major": 2,
       "version_minor": 0
      },
      "text/plain": [
       "Batches:   0%|          | 0/1 [00:00<?, ?it/s]"
      ]
     },
     "metadata": {},
     "output_type": "display_data"
    },
    {
     "name": "stderr",
     "output_type": "stream",
     "text": [
      "2025-08-25 01:24:01,266 [INFO] Keyword search (FTS5) initiated for query: 'self-attention'\n",
      "2025-08-25 01:24:01,287 [INFO] Hybrid search initiated for query: 'self-attention'\n",
      "2025-08-25 01:24:01,288 [INFO] Semantic search initiated for query: 'self-attention'\n"
     ]
    },
    {
     "data": {
      "application/vnd.jupyter.widget-view+json": {
       "model_id": "0332208f72b34a9da3cc4ace0a4fdaee",
       "version_major": 2,
       "version_minor": 0
      },
      "text/plain": [
       "Batches:   0%|          | 0/1 [00:00<?, ?it/s]"
      ]
     },
     "metadata": {},
     "output_type": "display_data"
    },
    {
     "name": "stderr",
     "output_type": "stream",
     "text": [
      "2025-08-25 01:24:01,311 [INFO] Keyword search (FTS5) initiated for query: 'self-attention'\n",
      "2025-08-25 01:24:01,330 [INFO] Hybrid search completed with 3 results.\n",
      "2025-08-25 01:24:01,331 [INFO] Evaluating query: 'NLP applications'\n",
      "2025-08-25 01:24:01,331 [INFO] Semantic search initiated for query: 'NLP applications'\n"
     ]
    },
    {
     "data": {
      "application/vnd.jupyter.widget-view+json": {
       "model_id": "ec106ef2ef3745a6ae863b36eb999a81",
       "version_major": 2,
       "version_minor": 0
      },
      "text/plain": [
       "Batches:   0%|          | 0/1 [00:00<?, ?it/s]"
      ]
     },
     "metadata": {},
     "output_type": "display_data"
    },
    {
     "name": "stderr",
     "output_type": "stream",
     "text": [
      "2025-08-25 01:24:01,364 [INFO] Keyword search (FTS5) initiated for query: 'NLP applications'\n",
      "2025-08-25 01:24:01,378 [INFO] Hybrid search initiated for query: 'NLP applications'\n",
      "2025-08-25 01:24:01,379 [INFO] Semantic search initiated for query: 'NLP applications'\n"
     ]
    },
    {
     "data": {
      "application/vnd.jupyter.widget-view+json": {
       "model_id": "ddb89494325140d284b10957f30c030f",
       "version_major": 2,
       "version_minor": 0
      },
      "text/plain": [
       "Batches:   0%|          | 0/1 [00:00<?, ?it/s]"
      ]
     },
     "metadata": {},
     "output_type": "display_data"
    },
    {
     "name": "stderr",
     "output_type": "stream",
     "text": [
      "2025-08-25 01:24:01,409 [INFO] Keyword search (FTS5) initiated for query: 'NLP applications'\n",
      "2025-08-25 01:24:01,428 [INFO] Hybrid search completed with 3 results.\n",
      "2025-08-25 01:24:01,429 [INFO] Evaluating query: 'deep learning'\n",
      "2025-08-25 01:24:01,429 [INFO] Semantic search initiated for query: 'deep learning'\n"
     ]
    },
    {
     "data": {
      "application/vnd.jupyter.widget-view+json": {
       "model_id": "1d5e3115d74b4be78abc664171ffe569",
       "version_major": 2,
       "version_minor": 0
      },
      "text/plain": [
       "Batches:   0%|          | 0/1 [00:00<?, ?it/s]"
      ]
     },
     "metadata": {},
     "output_type": "display_data"
    },
    {
     "name": "stderr",
     "output_type": "stream",
     "text": [
      "2025-08-25 01:24:01,460 [INFO] Keyword search (FTS5) initiated for query: 'deep learning'\n",
      "2025-08-25 01:24:01,484 [INFO] Hybrid search initiated for query: 'deep learning'\n",
      "2025-08-25 01:24:01,485 [INFO] Semantic search initiated for query: 'deep learning'\n"
     ]
    },
    {
     "data": {
      "application/vnd.jupyter.widget-view+json": {
       "model_id": "102686ce0aa04d62a287752693a9d752",
       "version_major": 2,
       "version_minor": 0
      },
      "text/plain": [
       "Batches:   0%|          | 0/1 [00:00<?, ?it/s]"
      ]
     },
     "metadata": {},
     "output_type": "display_data"
    },
    {
     "name": "stderr",
     "output_type": "stream",
     "text": [
      "2025-08-25 01:24:01,511 [INFO] Keyword search (FTS5) initiated for query: 'deep learning'\n",
      "2025-08-25 01:24:01,529 [INFO] Hybrid search completed with 3 results.\n"
     ]
    }
   ],
   "source": [
    "# Initialize summary table to store scores\n",
    "summary = {\n",
    "    \"Query\": [],\n",
    "    \"Vector Recall@3\": [],\n",
    "    \"Keyword Recall@3\": [],\n",
    "    \"Hybrid Recall@3\": []\n",
    "}\n",
    "\n",
    "# Evaluate each query across all three methods\n",
    "for query, relevant in evaluation_queries.items():\n",
    "    logger.info(f\"Evaluating query: '{query}'\")\n",
    "\n",
    "    # Run each search method\n",
    "    vec = semantic_search(query)\n",
    "    kw = keyword_search_fts5(query)\n",
    "    hyb = hybrid_search(query)\n",
    "\n",
    "    # Compute recall scores\n",
    "    summary[\"Query\"].append(query)\n",
    "    summary[\"Vector Recall@3\"].append(recall_at_k(vec, relevant))\n",
    "    summary[\"Keyword Recall@3\"].append(recall_at_k(kw, relevant))\n",
    "    summary[\"Hybrid Recall@3\"].append(recall_at_k(hyb, relevant))"
   ]
  },
  {
   "cell_type": "markdown",
   "id": "7673de8a",
   "metadata": {},
   "source": [
    "# ---------------------------------------------------------\n",
    "# Step 5: Display results\n",
    "# ---------------------------------------------------------"
   ]
  },
  {
   "cell_type": "code",
   "execution_count": 9,
   "id": "bf01e80d",
   "metadata": {},
   "outputs": [
    {
     "name": "stderr",
     "output_type": "stream",
     "text": [
      "2025-08-25 01:28:45,514 [INFO] Evaluation complete. Displaying results.\n"
     ]
    },
    {
     "data": {
      "text/html": [
       "<style type=\"text/css\">\n",
       "#T_544b0_row0_col1, #T_544b0_row0_col3, #T_544b0_row1_col1, #T_544b0_row1_col2, #T_544b0_row1_col3, #T_544b0_row2_col1, #T_544b0_row2_col2, #T_544b0_row2_col3, #T_544b0_row3_col1, #T_544b0_row3_col3, #T_544b0_row4_col1, #T_544b0_row4_col3, #T_544b0_row5_col1, #T_544b0_row5_col3, #T_544b0_row6_col1, #T_544b0_row6_col2, #T_544b0_row6_col3, #T_544b0_row7_col1, #T_544b0_row7_col2, #T_544b0_row7_col3, #T_544b0_row8_col1, #T_544b0_row8_col3, #T_544b0_row9_col1, #T_544b0_row9_col3 {\n",
       "  background-color: yellow;\n",
       "}\n",
       "</style>\n",
       "<table id=\"T_544b0\">\n",
       "  <thead>\n",
       "    <tr>\n",
       "      <th class=\"blank level0\" >&nbsp;</th>\n",
       "      <th id=\"T_544b0_level0_col0\" class=\"col_heading level0 col0\" >Query</th>\n",
       "      <th id=\"T_544b0_level0_col1\" class=\"col_heading level0 col1\" >Vector Recall@3</th>\n",
       "      <th id=\"T_544b0_level0_col2\" class=\"col_heading level0 col2\" >Keyword Recall@3</th>\n",
       "      <th id=\"T_544b0_level0_col3\" class=\"col_heading level0 col3\" >Hybrid Recall@3</th>\n",
       "      <th id=\"T_544b0_level0_col4\" class=\"col_heading level0 col4\" >Best Method</th>\n",
       "    </tr>\n",
       "  </thead>\n",
       "  <tbody>\n",
       "    <tr>\n",
       "      <th id=\"T_544b0_level0_row0\" class=\"row_heading level0 row0\" >0</th>\n",
       "      <td id=\"T_544b0_row0_col0\" class=\"data row0 col0\" >transformer architecture</td>\n",
       "      <td id=\"T_544b0_row0_col1\" class=\"data row0 col1\" >1.00</td>\n",
       "      <td id=\"T_544b0_row0_col2\" class=\"data row0 col2\" >0.00</td>\n",
       "      <td id=\"T_544b0_row0_col3\" class=\"data row0 col3\" >1.00</td>\n",
       "      <td id=\"T_544b0_row0_col4\" class=\"data row0 col4\" >Vector Recall@3</td>\n",
       "    </tr>\n",
       "    <tr>\n",
       "      <th id=\"T_544b0_level0_row1\" class=\"row_heading level0 row1\" >1</th>\n",
       "      <td id=\"T_544b0_row1_col0\" class=\"data row1 col0\" >language modeling</td>\n",
       "      <td id=\"T_544b0_row1_col1\" class=\"data row1 col1\" >1.00</td>\n",
       "      <td id=\"T_544b0_row1_col2\" class=\"data row1 col2\" >1.00</td>\n",
       "      <td id=\"T_544b0_row1_col3\" class=\"data row1 col3\" >1.00</td>\n",
       "      <td id=\"T_544b0_row1_col4\" class=\"data row1 col4\" >Vector Recall@3</td>\n",
       "    </tr>\n",
       "    <tr>\n",
       "      <th id=\"T_544b0_level0_row2\" class=\"row_heading level0 row2\" >2</th>\n",
       "      <td id=\"T_544b0_row2_col0\" class=\"data row2 col0\" >encoder-decoder</td>\n",
       "      <td id=\"T_544b0_row2_col1\" class=\"data row2 col1\" >1.00</td>\n",
       "      <td id=\"T_544b0_row2_col2\" class=\"data row2 col2\" >1.00</td>\n",
       "      <td id=\"T_544b0_row2_col3\" class=\"data row2 col3\" >1.00</td>\n",
       "      <td id=\"T_544b0_row2_col4\" class=\"data row2 col4\" >Vector Recall@3</td>\n",
       "    </tr>\n",
       "    <tr>\n",
       "      <th id=\"T_544b0_level0_row3\" class=\"row_heading level0 row3\" >3</th>\n",
       "      <td id=\"T_544b0_row3_col0\" class=\"data row3 col0\" >attention mechanism</td>\n",
       "      <td id=\"T_544b0_row3_col1\" class=\"data row3 col1\" >1.00</td>\n",
       "      <td id=\"T_544b0_row3_col2\" class=\"data row3 col2\" >0.00</td>\n",
       "      <td id=\"T_544b0_row3_col3\" class=\"data row3 col3\" >1.00</td>\n",
       "      <td id=\"T_544b0_row3_col4\" class=\"data row3 col4\" >Vector Recall@3</td>\n",
       "    </tr>\n",
       "    <tr>\n",
       "      <th id=\"T_544b0_level0_row4\" class=\"row_heading level0 row4\" >4</th>\n",
       "      <td id=\"T_544b0_row4_col0\" class=\"data row4 col0\" >sequence processing</td>\n",
       "      <td id=\"T_544b0_row4_col1\" class=\"data row4 col1\" >1.00</td>\n",
       "      <td id=\"T_544b0_row4_col2\" class=\"data row4 col2\" >0.00</td>\n",
       "      <td id=\"T_544b0_row4_col3\" class=\"data row4 col3\" >1.00</td>\n",
       "      <td id=\"T_544b0_row4_col4\" class=\"data row4 col4\" >Vector Recall@3</td>\n",
       "    </tr>\n",
       "    <tr>\n",
       "      <th id=\"T_544b0_level0_row5\" class=\"row_heading level0 row5\" >5</th>\n",
       "      <td id=\"T_544b0_row5_col0\" class=\"data row5 col0\" >translation tasks</td>\n",
       "      <td id=\"T_544b0_row5_col1\" class=\"data row5 col1\" >1.00</td>\n",
       "      <td id=\"T_544b0_row5_col2\" class=\"data row5 col2\" >0.00</td>\n",
       "      <td id=\"T_544b0_row5_col3\" class=\"data row5 col3\" >1.00</td>\n",
       "      <td id=\"T_544b0_row5_col4\" class=\"data row5 col4\" >Vector Recall@3</td>\n",
       "    </tr>\n",
       "    <tr>\n",
       "      <th id=\"T_544b0_level0_row6\" class=\"row_heading level0 row6\" >6</th>\n",
       "      <td id=\"T_544b0_row6_col0\" class=\"data row6 col0\" >summarization</td>\n",
       "      <td id=\"T_544b0_row6_col1\" class=\"data row6 col1\" >1.00</td>\n",
       "      <td id=\"T_544b0_row6_col2\" class=\"data row6 col2\" >1.00</td>\n",
       "      <td id=\"T_544b0_row6_col3\" class=\"data row6 col3\" >1.00</td>\n",
       "      <td id=\"T_544b0_row6_col4\" class=\"data row6 col4\" >Vector Recall@3</td>\n",
       "    </tr>\n",
       "    <tr>\n",
       "      <th id=\"T_544b0_level0_row7\" class=\"row_heading level0 row7\" >7</th>\n",
       "      <td id=\"T_544b0_row7_col0\" class=\"data row7 col0\" >self-attention</td>\n",
       "      <td id=\"T_544b0_row7_col1\" class=\"data row7 col1\" >1.00</td>\n",
       "      <td id=\"T_544b0_row7_col2\" class=\"data row7 col2\" >1.00</td>\n",
       "      <td id=\"T_544b0_row7_col3\" class=\"data row7 col3\" >1.00</td>\n",
       "      <td id=\"T_544b0_row7_col4\" class=\"data row7 col4\" >Vector Recall@3</td>\n",
       "    </tr>\n",
       "    <tr>\n",
       "      <th id=\"T_544b0_level0_row8\" class=\"row_heading level0 row8\" >8</th>\n",
       "      <td id=\"T_544b0_row8_col0\" class=\"data row8 col0\" >NLP applications</td>\n",
       "      <td id=\"T_544b0_row8_col1\" class=\"data row8 col1\" >1.00</td>\n",
       "      <td id=\"T_544b0_row8_col2\" class=\"data row8 col2\" >0.00</td>\n",
       "      <td id=\"T_544b0_row8_col3\" class=\"data row8 col3\" >1.00</td>\n",
       "      <td id=\"T_544b0_row8_col4\" class=\"data row8 col4\" >Vector Recall@3</td>\n",
       "    </tr>\n",
       "    <tr>\n",
       "      <th id=\"T_544b0_level0_row9\" class=\"row_heading level0 row9\" >9</th>\n",
       "      <td id=\"T_544b0_row9_col0\" class=\"data row9 col0\" >deep learning</td>\n",
       "      <td id=\"T_544b0_row9_col1\" class=\"data row9 col1\" >1.00</td>\n",
       "      <td id=\"T_544b0_row9_col2\" class=\"data row9 col2\" >0.00</td>\n",
       "      <td id=\"T_544b0_row9_col3\" class=\"data row9 col3\" >1.00</td>\n",
       "      <td id=\"T_544b0_row9_col4\" class=\"data row9 col4\" >Vector Recall@3</td>\n",
       "    </tr>\n",
       "  </tbody>\n",
       "</table>\n"
      ],
      "text/plain": [
       "<pandas.io.formats.style.Styler at 0x772aac05cf80>"
      ]
     },
     "metadata": {},
     "output_type": "display_data"
    }
   ],
   "source": [
    "# Convert the summary dictionary into a pandas DataFrame\n",
    "df = pd.DataFrame(summary)\n",
    "\n",
    "# Identify which method had the highest Recall@3 for each query\n",
    "df[\"Best Method\"] = df[[\"Vector Recall@3\", \"Keyword Recall@3\", \"Hybrid Recall@3\"]].idxmax(axis=1)\n",
    "\n",
    "# Define numeric columns for formatting and highlighting\n",
    "numeric_cols = [\"Vector Recall@3\", \"Keyword Recall@3\", \"Hybrid Recall@3\"]\n",
    "\n",
    "# Log that evaluation is complete\n",
    "logger.info(\"Evaluation complete. Displaying results.\")\n",
    "\n",
    "# Apply formatting only to numeric columns\n",
    "try:\n",
    "    styled = df.style.format({col: \"{:.2f}\" for col in numeric_cols}) \\\n",
    "                     .highlight_max(subset=numeric_cols, axis=1)\n",
    "    display(styled)\n",
    "except Exception as e:\n",
    "    logger.warning(f\"Styling failed: {e}\")\n",
    "    print(df)"
   ]
  },
  {
   "cell_type": "markdown",
   "id": "854d6a52",
   "metadata": {},
   "source": [
    "# ---------------------------------------------------------\n",
    "# Step 6: Print average scores\n",
    "# ---------------------------------------------------------"
   ]
  },
  {
   "cell_type": "code",
   "execution_count": 10,
   "id": "d33a109c",
   "metadata": {},
   "outputs": [
    {
     "name": "stdout",
     "output_type": "stream",
     "text": [
      "Average Recall@3:\n",
      "Vector-only: 1.0\n",
      "Keyword-only: 0.4\n",
      "Hybrid: 1.0\n"
     ]
    }
   ],
   "source": [
    "# Print average recall scores across all queries\n",
    "print(\"Average Recall@3:\")\n",
    "print(\"Vector-only:\", round(df[\"Vector Recall@3\"].mean(), 3))\n",
    "print(\"Keyword-only:\", round(df[\"Keyword Recall@3\"].mean(), 3))\n",
    "print(\"Hybrid:\", round(df[\"Hybrid Recall@3\"].mean(), 3))"
   ]
  }
 ],
 "metadata": {
  "kernelspec": {
   "display_name": "Python (vllm-env)",
   "language": "python",
   "name": "vllm-env"
  },
  "language_info": {
   "codemirror_mode": {
    "name": "ipython",
    "version": 3
   },
   "file_extension": ".py",
   "mimetype": "text/x-python",
   "name": "python",
   "nbconvert_exporter": "python",
   "pygments_lexer": "ipython3",
   "version": "3.12.3"
  }
 },
 "nbformat": 4,
 "nbformat_minor": 5
}
